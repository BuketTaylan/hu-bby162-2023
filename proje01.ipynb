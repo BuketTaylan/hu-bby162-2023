{
  "nbformat": 4,
  "nbformat_minor": 0,
  "metadata": {
    "colab": {
      "provenance": [],
      "authorship_tag": "ABX9TyOzHbX3iNwlGDSuNZPV/E17",
      "include_colab_link": true
    },
    "kernelspec": {
      "name": "python3",
      "display_name": "Python 3"
    },
    "language_info": {
      "name": "python"
    }
  },
  "cells": [
    {
      "cell_type": "markdown",
      "metadata": {
        "id": "view-in-github",
        "colab_type": "text"
      },
      "source": [
        "<a href=\"https://colab.research.google.com/github/BuketTaylan/hu-bby162-2023/blob/main/proje01.ipynb\" target=\"_parent\"><img src=\"https://colab.research.google.com/assets/colab-badge.svg\" alt=\"Open In Colab\"/></a>"
      ]
    },
    {
      "cell_type": "code",
      "execution_count": 6,
      "metadata": {
        "colab": {
          "base_uri": "https://localhost:8080/"
        },
        "id": "gzfeYLsHcR4C",
        "outputId": "ca375bd4-8271-4f0f-8ae9-143491f0ea10"
      },
      "outputs": [
        {
          "output_type": "stream",
          "name": "stdout",
          "text": [
            "['excited', 'suprised', 'depressed', 'boring', 'heart']\n"
          ]
        }
      ],
      "source": [
        "# Ezberlenecek Kelime Listesi Hazırlayalım ! \n",
        "ingKelimeler = [\"excited\", \"suprised\", \"depressed\", \"boring\", \"heart\"]\n",
        "print(ingKelimeler)\n"
      ]
    },
    {
      "cell_type": "code",
      "source": [
        "# Yeni Kelimeler Ekle !\n",
        "ingKelimeler = [\"excited\", \"suprised\", \"depressed\", \"boring\", \"heart\"]\n",
        "ingKelimeler += [\"late\", \"rich\"]\n",
        "print(ingKelimeler)"
      ],
      "metadata": {
        "colab": {
          "base_uri": "https://localhost:8080/"
        },
        "id": "6mVREPU39hKy",
        "outputId": "af3cf6a7-c445-4d43-8463-e64f5e26416e"
      },
      "execution_count": 2,
      "outputs": [
        {
          "output_type": "stream",
          "name": "stdout",
          "text": [
            "['excited', 'suprised', 'depressed', 'boring', 'heart', 'late', 'rich']\n"
          ]
        }
      ]
    },
    {
      "cell_type": "code",
      "source": [
        "# Yeni Kelimeleri Buraya Gir !\n",
        "ingKelimeler = [\"excited\", \"suprised\", \"depressed\", \"boring\", \"heart\"]\n",
        "baskaingKelimeler = input(\"Kelimeyi Buraya Giriniz: \")\n",
        "ingKelimeler.append(baskaingKelimeler)\n",
        "print(ingKelimeler)"
      ],
      "metadata": {
        "colab": {
          "base_uri": "https://localhost:8080/"
        },
        "id": "xd6f9OAB9sSX",
        "outputId": "d9c733ec-6abe-4e1b-ac36-d2d1a42abbd7"
      },
      "execution_count": 14,
      "outputs": [
        {
          "output_type": "stream",
          "name": "stdout",
          "text": [
            "Kelimeyi Buraya Giriniz: try\n",
            "['excited', 'suprised', 'depressed', 'boring', 'heart', 'try']\n"
          ]
        }
      ]
    },
    {
      "cell_type": "code",
      "source": [
        "# Ezberlenenleri Sil ! \n",
        "ingKelimeler = [\"excited\", \"suprised\", \"depressed\", \"boring\", \"heart\"]\n",
        "ingKelimeler[2:4] = []\n",
        "print(ingKelimeler)"
      ],
      "metadata": {
        "colab": {
          "base_uri": "https://localhost:8080/"
        },
        "id": "PcJ95rvr9ymB",
        "outputId": "49616abf-bb66-46b7-e4a3-959547efaf96"
      },
      "execution_count": 11,
      "outputs": [
        {
          "output_type": "stream",
          "name": "stdout",
          "text": [
            "['excited', 'suprised', 'heart']\n"
          ]
        }
      ]
    },
    {
      "cell_type": "code",
      "source": [
        "# Hepsi Ezberlendiğinde Tüm Listeyi Sil !\n",
        "ingKelimeler[:] = []\n",
        "print(ingKelimeler)"
      ],
      "metadata": {
        "colab": {
          "base_uri": "https://localhost:8080/"
        },
        "id": "DBXD9e4u94uv",
        "outputId": "525cc37f-fcfe-42aa-fa20-c748bc35a2e4"
      },
      "execution_count": 12,
      "outputs": [
        {
          "output_type": "stream",
          "name": "stdout",
          "text": [
            "[]\n"
          ]
        }
      ]
    }
  ]
}