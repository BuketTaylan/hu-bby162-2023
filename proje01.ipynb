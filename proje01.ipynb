{
  "nbformat": 4,
  "nbformat_minor": 0,
  "metadata": {
    "colab": {
      "provenance": [],
      "authorship_tag": "ABX9TyNSTCOCyH4VInWjABWhYsVe",
      "include_colab_link": true
    },
    "kernelspec": {
      "name": "python3",
      "display_name": "Python 3"
    },
    "language_info": {
      "name": "python"
    }
  },
  "cells": [
    {
      "cell_type": "markdown",
      "metadata": {
        "id": "view-in-github",
        "colab_type": "text"
      },
      "source": [
        "<a href=\"https://colab.research.google.com/github/BuketTaylan/hu-bby162-2023/blob/main/proje01.ipynb\" target=\"_parent\"><img src=\"https://colab.research.google.com/assets/colab-badge.svg\" alt=\"Open In Colab\"/></a>"
      ]
    },
    {
      "cell_type": "code",
      "execution_count": 1,
      "metadata": {
        "colab": {
          "base_uri": "https://localhost:8080/"
        },
        "id": "gzfeYLsHcR4C",
        "outputId": "9dad5de5-43f0-49a6-ac40-b67dccb167f3"
      },
      "outputs": [
        {
          "output_type": "stream",
          "name": "stdout",
          "text": [
            "['excited', 'suprised', 'depressed', 'boring', 'heart']\n",
            "['excited', 'suprised', 'depressed', 'boring', 'heart', 'late', 'rich']\n",
            "Kelimeyi Buraya Giriniz: try\n",
            "['excited', 'suprised', 'heart', 'late', 'rich', 'try']\n",
            "[]\n"
          ]
        }
      ],
      "source": [
        "# Ezberlenecek Kelime Listesi Hazırlayalım ! \n",
        "ingKelimeler = [\"excited\", \"suprised\", \"depressed\", \"boring\", \"heart\"]\n",
        "print(ingKelimeler)\n",
        "\n",
        "# Yeni Kelimeler Ekle !\n",
        "ingKelimeler += [\"late\", \"rich\"]\n",
        "print(ingKelimeler)\n",
        "\n",
        "# Yeni Kelimeleri Buraya Gir !\n",
        "baskaingKelimeler = input(\"Kelimeyi Buraya Giriniz: \")\n",
        "ingKelimeler.append(baskaingKelimeler)\n",
        "\n",
        "# Ezberlenenleri Sil ! \n",
        "ingKelimeler[2:4] = []\n",
        "print(ingKelimeler)\n",
        "\n",
        "# Hepsi Ezberlendiğinde Tüm Listeyi Sil !\n",
        "ingKelimeler[:] = []\n",
        "print(ingKelimeler)"
      ]
    }
  ]
}