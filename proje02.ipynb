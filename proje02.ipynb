{
  "nbformat": 4,
  "nbformat_minor": 0,
  "metadata": {
    "colab": {
      "provenance": [],
      "authorship_tag": "ABX9TyPsdjDZKLmx4hkSK1FNhlAN",
      "include_colab_link": true
    },
    "kernelspec": {
      "name": "python3",
      "display_name": "Python 3"
    },
    "language_info": {
      "name": "python"
    }
  },
  "cells": [
    {
      "cell_type": "markdown",
      "metadata": {
        "id": "view-in-github",
        "colab_type": "text"
      },
      "source": [
        "<a href=\"https://colab.research.google.com/github/BuketTaylan/hu-bby162-2023/blob/main/proje02.ipynb\" target=\"_parent\"><img src=\"https://colab.research.google.com/assets/colab-badge.svg\" alt=\"Open In Colab\"/></a>"
      ]
    },
    {
      "cell_type": "code",
      "execution_count": null,
      "metadata": {
        "id": "9gzOXTw6uZjn"
      },
      "outputs": [],
      "source": [
        "import random\n",
        "import string\n",
        "\n",
        "#kelime listelerim oluşturuyorum\n",
        "def kelime_listlerim():\n",
        "    kelime_list = [\"elma\", \"muz\", \"domates\", \"kertenkele\", \"portakal\", \"leopar\", \"fare\"]\n",
        "    return random.choice(kelime_list)\n",
        "\n",
        "#seviye tercih fonksiyonu \n",
        "def seviye_tercih():\n",
        "    seviye = input(\"Lütfen (K)olay, (O)rta veya (Z)or seviyeden birini seçin:: \").upper()\n",
        "    if seviye == \"K\":\n",
        "        return 5\n",
        "    elif seviye == \"O\":\n",
        "        return 3\n",
        "    elif seviye == \"Z\":\n",
        "        return 1\n",
        "    else:\n",
        "        print(\"Geçersiz bir giriş. Lütfen tekrar deneyin.\")\n",
        "        return seviye_tercih()\n",
        "\n",
        "#tekrar oynamak istermisiniz sorusunun fonksiyonu\n",
        "def tekrar_oyna():\n",
        "    return input(\"Oyunu tekrar oynamak istermisiniz ? (E)vet veya (H)ayır: \").upper() == \"E\"\n",
        "\n",
        "#adam Asmaca fonksiyonun oyunun oynanış ve seçimlerin çalıştırdığım fonksiyon.\n",
        "def adamAsmaca():\n",
        "    \n",
        "    kelime = kelime_listlerim().upper()\n",
        "    kelime_harfleri = set(kelime)\n",
        "    gecerliharf = set(string.ascii_uppercase)\n",
        "    kullanilan_harfler = set()\n",
        "    canlar = seviye_tercih()\n",
        "\n",
        "    while len(kelime_harfleri) > 0 and canlar > 0:\n",
        "        print(\"Kalan canınız:\", canlar, \"Kullandığınız harfler: \", \" \".join(kullanilan_harfler))\n",
        "\n",
        "        kelime_list = [harfler if harfler in kullanilan_harfler else \"_\" for harfler in kelime]\n",
        "        print(\"Geçerli kelime: \", \" \".join(kelime_list))\n",
        "\n",
        "        kullanici_harfi = input(\"Bir harf tahmin edin: \").upper()\n",
        "        if kullanici_harfi in gecerliharf - kullanilan_harfler:\n",
        "            kullanilan_harfler.add(kullanici_harfi)\n",
        "            if kullanici_harfi in kelime_harfleri:\n",
        "                kelime_harfleri.remove(kullanici_harfi)\n",
        "            else:\n",
        "                canlar = canlar - 1\n",
        "                print(\"Harf kelimede değil.\")\n",
        "        elif kullanici_harfi in kullanilan_harfler:\n",
        "            print(\"Bu harfi daha önce kullandınız. Lütfen tekrar deneyin.\")\n",
        "        else:\n",
        "            print(\"Geçersiz harf. Lütfen tekrar deneyin.\")\n",
        "\n",
        "    if canlar == 0:\n",
        "        print(\"Üzgünüm, Sen Asıldın ve Öldün!. Kelime şuydu : \", kelime)\n",
        "    else:\n",
        "        print(\"Tebrikler! Kelimeyi doğru tahmin ettin : \", kelime, \"!!\")\n",
        "\n",
        "    if tekrar_oyna():\n",
        "        adamAsmaca()\n",
        "    else:\n",
        "        print(\"Adam Asmaca oynadığınız için teşekkürler.\")\n",
        "\n",
        "adamAsmaca()"
      ]
    }
  ]
}